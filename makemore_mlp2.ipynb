{
 "cells": [
  {
   "cell_type": "code",
   "execution_count": 1,
   "id": "c684609b",
   "metadata": {},
   "outputs": [],
   "source": [
    "import torch\n",
    "import torch.nn.functional as F\n",
    "import matplotlib.pyplot as plt\n",
    "%matplotlib inline"
   ]
  },
  {
   "cell_type": "code",
   "execution_count": 2,
   "id": "96f4aff2",
   "metadata": {},
   "outputs": [
    {
     "data": {
      "text/plain": [
       "['emma', 'olivia', 'ava', 'isabella', 'sophia', 'charlotte', 'mia', 'amelia']"
      ]
     },
     "execution_count": 2,
     "metadata": {},
     "output_type": "execute_result"
    }
   ],
   "source": [
    "# read in all the words \n",
    "words = open('names.txt', 'r').read().splitlines()\n",
    "words[:8]"
   ]
  },
  {
   "cell_type": "code",
   "execution_count": 3,
   "id": "30dcc4d0",
   "metadata": {},
   "outputs": [
    {
     "data": {
      "text/plain": [
       "32033"
      ]
     },
     "execution_count": 3,
     "metadata": {},
     "output_type": "execute_result"
    }
   ],
   "source": [
    "len(words)"
   ]
  },
  {
   "cell_type": "code",
   "execution_count": 5,
   "id": "bfa18ac7",
   "metadata": {},
   "outputs": [
    {
     "name": "stdout",
     "output_type": "stream",
     "text": [
      "{1: 'a', 2: 'b', 3: 'c', 4: 'd', 5: 'e', 6: 'f', 7: 'g', 8: 'h', 9: 'i', 10: 'j', 11: 'k', 12: 'l', 13: 'm', 14: 'n', 15: 'o', 16: 'p', 17: 'q', 18: 'r', 19: 's', 20: 't', 21: 'u', 22: 'v', 23: 'w', 24: 'x', 25: 'y', 26: 'z', 0: '.'}\n",
      "27\n"
     ]
    }
   ],
   "source": [
    "# build the vocabulary of characters and mappings to/from integers\n",
    "chars = sorted(list(set(''.join(words))))\n",
    "stoi = {s:i+1 for i,s in enumerate(chars)}\n",
    "stoi['.'] = 0\n",
    "itos = {i:s for s,i in stoi.items()}\n",
    "vocab_size = len(itos)\n",
    "print(itos)\n",
    "print(vocab_size)"
   ]
  },
  {
   "cell_type": "code",
   "execution_count": 6,
   "id": "4ba234e2",
   "metadata": {},
   "outputs": [
    {
     "name": "stdout",
     "output_type": "stream",
     "text": [
      "torch.Size([182625, 3]) torch.Size([182625])\n",
      "torch.Size([22655, 3]) torch.Size([22655])\n",
      "torch.Size([22866, 3]) torch.Size([22866])\n"
     ]
    }
   ],
   "source": [
    "#build the dataset\n",
    "block_size = 3 # context length: how many characters do we take to predict the next one\n",
    "\n",
    "def build_dataset(words):\n",
    "    X, Y = [], []\n",
    "    \n",
    "    for w in words:\n",
    "        context = [0] * block_size\n",
    "        for ch in w + '.':\n",
    "            ix = stoi[ch]\n",
    "            X.append(context)\n",
    "            Y.append(ix)\n",
    "            context = context[1:] + [ix]\n",
    "    X = torch.tensor(X)\n",
    "    Y = torch.tensor(Y)\n",
    "    print(X.shape, Y.shape)\n",
    "    return X, Y\n",
    "\n",
    "import random\n",
    "random.seed(42)\n",
    "random.shuffle(words)\n",
    "n1 = int(0.8*len(words))\n",
    "n2 = int(0.9*len(words))\n",
    "\n",
    "Xtr, Ytr = build_dataset(words[:n1])\n",
    "Xva, Yva = build_dataset(words[n1:n2])\n",
    "Xte, Yte = build_dataset(words[n2:])"
   ]
  },
  {
   "cell_type": "code",
   "execution_count": null,
   "id": "2ddcc1d1",
   "metadata": {},
   "outputs": [
    {
     "name": "stdout",
     "output_type": "stream",
     "text": [
      "12297\n"
     ]
    }
   ],
   "source": [
    "# MLP revisited\n",
    "n_embd = 10 # the dimensionality of the character embedding vectors\n",
    "n_hidden = 200 # the number of neurons ini the hidden layer of the mlp\n",
    "\n",
    "g = torch.Generator().manual_seed(2147483647) # for reproducibility \n",
    "C = torch.randn((vocab_size, n_embd), generator=g)\n",
    "W1 = torch.rand((n_embd * block_size, n_hidden), generator=g) * (5/3) / ((n_embd * block_size)**0.5)\n",
    "b1 = torch.randn(n_hidden, generator=g) * 0.02\n",
    "W2 = torch.rand((n_hidden, vocab_size), generator=g) * 0.02\n",
    "b2 = torch.randn(vocab_size, generator=g) * 0 \n",
    "\n",
    "# Batch norm parameters\n",
    "bngain = torch.ones((1, n_hidden))\n",
    "bnbias = torch.zeros((1, n_hidden))\n",
    "bnmean_running = torch.zeros((1, n_hidden))\n",
    "bnstd_running = torch.ones((1, n_hidden))\n",
    "\n",
    "parameters = [C, W1, b1, W2, b2, bngain, bnbias]\n",
    "print(sum(p.nelement() for p in parameters)) # number of parameters in total \n",
    "for p in parameters:\n",
    "    p.requires_grad = True"
   ]
  },
  {
   "cell_type": "code",
   "execution_count": 66,
   "id": "c44f3da4",
   "metadata": {},
   "outputs": [
    {
     "data": {
      "text/plain": [
       "torch.Size([182625, 200])"
      ]
     },
     "execution_count": 66,
     "metadata": {},
     "output_type": "execute_result"
    }
   ],
   "source": [
    "hpreact.shape"
   ]
  },
  {
   "cell_type": "code",
   "execution_count": 67,
   "id": "b596fa62",
   "metadata": {},
   "outputs": [
    {
     "data": {
      "text/plain": [
       "torch.Size([1, 200])"
      ]
     },
     "execution_count": 67,
     "metadata": {},
     "output_type": "execute_result"
    }
   ],
   "source": [
    "hpreact.mean(0, keepdim=True).shape"
   ]
  },
  {
   "cell_type": "code",
   "execution_count": 68,
   "id": "08e973a1",
   "metadata": {},
   "outputs": [
    {
     "data": {
      "text/plain": [
       "torch.Size([1, 200])"
      ]
     },
     "execution_count": 68,
     "metadata": {},
     "output_type": "execute_result"
    }
   ],
   "source": [
    "hpreact.std(0, keepdim=True).shape"
   ]
  },
  {
   "cell_type": "code",
   "execution_count": null,
   "id": "27a966ee",
   "metadata": {},
   "outputs": [
    {
     "name": "stdout",
     "output_type": "stream",
     "text": [
      "      0/ 200000: 3.2999\n",
      "  10000/ 200000: 1.9092\n",
      "  20000/ 200000: 1.8588\n",
      "  30000/ 200000: 2.2118\n",
      "  40000/ 200000: 2.2041\n",
      "  50000/ 200000: 2.3526\n",
      "  60000/ 200000: 1.9673\n",
      "  70000/ 200000: 1.8962\n",
      "  80000/ 200000: 2.3055\n",
      "  90000/ 200000: 2.1659\n",
      " 100000/ 200000: 2.0204\n",
      " 110000/ 200000: 2.2702\n",
      " 120000/ 200000: 1.8128\n",
      " 130000/ 200000: 2.1509\n",
      " 140000/ 200000: 2.0578\n",
      " 150000/ 200000: 2.2298\n",
      " 160000/ 200000: 2.2813\n",
      " 170000/ 200000: 1.5957\n",
      " 180000/ 200000: 1.9704\n",
      " 190000/ 200000: 2.2393\n"
     ]
    }
   ],
   "source": [
    "# same optimization as last time\n",
    "max_steps = 200000\n",
    "batch_size = 32\n",
    "lossi = []\n",
    "\n",
    "for i in range(max_steps):\n",
    "    \n",
    "    #minibatch construct\n",
    "    ix = torch.randint(0, Xtr.shape[0], (batch_size,), generator=g)\n",
    "    Xb, Yb = Xtr[ix], Ytr[ix] # batch X, Y\n",
    "    \n",
    "    #forward pass\n",
    "    emb = C[Xb] # embedd the charaters into vectors\n",
    "    embcat = emb.view(emb.shape[0], -1) # concat the vectors\n",
    "    \n",
    "    # Linear layer \n",
    "    hpreact = embcat @ W1 + b1 # hidden layer pre-activation\n",
    "    \n",
    "    # BatchNorm layer \n",
    "    # ------------------------------------------------------------\n",
    "    bnmeani = hpreact.mean(0, keepdim=True)\n",
    "    bnstdi = hpreact.std(0, keepdim=True)\n",
    "    hpreact = bngain * (hpreact - bnmeani) / bnstdi + bnbias\n",
    "    \n",
    "    with torch.no_grad():\n",
    "        bnmean_running = bnmean_running * 0.999 + bnmeani * 0.001\n",
    "        bnstd_running = bnstd_running * 0.999 + bnstdi * 0.001\n",
    "    \n",
    "    # ------------------------------------------------------------\n",
    "    # Non-linearity \n",
    "    h = torch.tanh(hpreact) # hidden layer activation\n",
    "    logits = h @ W2 + b2 # output layer pre-activation\n",
    "    loss = F.cross_entropy(logits, Yb) # compute loss\n",
    "    \n",
    "    #backward pass\n",
    "    for p in parameters:\n",
    "        p.grad = None\n",
    "    loss.backward()\n",
    "    \n",
    "    #update\n",
    "    lr = 0.1 if i < 100000 else 0.01 # step learning rate decay \n",
    "    for p in parameters: \n",
    "        p.data += -lr * p.grad\n",
    "        \n",
    "    # track stats \n",
    "    if i % 10000 == 0: #  print every once in a while \n",
    "        print(f'{i:7d}/{max_steps:7d}: {loss.item():.4f}')\n",
    "    lossi.append(loss.item())"
   ]
  },
  {
   "cell_type": "code",
   "execution_count": 70,
   "id": "ec4decd2",
   "metadata": {},
   "outputs": [
    {
     "data": {
      "text/plain": [
       "<matplotlib.image.AxesImage at 0x30426f970>"
      ]
     },
     "execution_count": 70,
     "metadata": {},
     "output_type": "execute_result"
    },
    {
     "data": {
      "image/png": "[encoded data removed]",
      "text/plain": [
       "<Figure size 2000x1000 with 1 Axes>"
      ]
     },
     "metadata": {},
     "output_type": "display_data"
    }
   ],
   "source": [
    "plt.figure(figsize=(20, 10))\n",
    "plt.imshow(h.abs() > 0.99, cmap='gray', interpolation='nearest')"
   ]
  },
  {
   "cell_type": "code",
   "execution_count": 71,
   "id": "e65622bb",
   "metadata": {},
   "outputs": [
    {
     "data": {
      "text/plain": [
       "(array([508., 246., 164., 146., 116., 114., 128.,  94.,  99.,  93.,  92.,\n",
       "        108., 113.,  69., 106.,  77.,  67.,  95., 121., 100.,  85., 100.,\n",
       "        106., 172., 169., 156., 121.,  95., 104., 110., 122.,  99., 104.,\n",
       "         69.,  91., 101.,  54.,  73.,  83.,  82.,  93.,  88.,  98., 103.,\n",
       "        112., 143., 116., 162., 219., 514.]),\n",
       " array([-9.99984026e-01, -9.59984789e-01, -9.19985552e-01, -8.79986315e-01,\n",
       "        -8.39987078e-01, -7.99987841e-01, -7.59988604e-01, -7.19989367e-01,\n",
       "        -6.79990129e-01, -6.39990892e-01, -5.99991655e-01, -5.59992418e-01,\n",
       "        -5.19993181e-01, -4.79993944e-01, -4.39994707e-01, -3.99995470e-01,\n",
       "        -3.59996233e-01, -3.19996996e-01, -2.79997759e-01, -2.39998522e-01,\n",
       "        -1.99999285e-01, -1.60000048e-01, -1.20000811e-01, -8.00015736e-02,\n",
       "        -4.00023365e-02, -3.09944153e-06,  3.99961376e-02,  7.99953747e-02,\n",
       "         1.19994612e-01,  1.59993849e-01,  1.99993086e-01,  2.39992323e-01,\n",
       "         2.79991560e-01,  3.19990797e-01,  3.59990034e-01,  3.99989271e-01,\n",
       "         4.39988508e-01,  4.79987745e-01,  5.19986982e-01,  5.59986219e-01,\n",
       "         5.99985456e-01,  6.39984694e-01,  6.79983931e-01,  7.19983168e-01,\n",
       "         7.59982405e-01,  7.99981642e-01,  8.39980879e-01,  8.79980116e-01,\n",
       "         9.19979353e-01,  9.59978590e-01,  9.99977827e-01]),\n",
       " <BarContainer object of 50 artists>)"
      ]
     },
     "execution_count": 71,
     "metadata": {},
     "output_type": "execute_result"
    },
    {
     "data": {
      "image/png": "[encoded data removed]",
      "text/plain": [
       "<Figure size 640x480 with 1 Axes>"
      ]
     },
     "metadata": {},
     "output_type": "display_data"
    }
   ],
   "source": [
    "plt.hist(h.view(-1,).tolist(), 50)"
   ]
  },
  {
   "cell_type": "code",
   "execution_count": 72,
   "id": "c93fd1a8",
   "metadata": {},
   "outputs": [
    {
     "data": {
      "text/plain": [
       "(array([  2.,   1.,   2.,   2.,   2.,   4.,   3.,  11.,  16.,  13.,  21.,\n",
       "         42.,  47.,  65.,  70.,  92., 121., 149., 171., 218., 229., 318.,\n",
       "        360., 425., 562., 785., 544., 375., 294., 277., 238., 181., 142.,\n",
       "        135., 125.,  83.,  63.,  62.,  42.,  32.,  15.,  13.,  15.,  15.,\n",
       "          4.,   6.,   4.,   2.,   1.,   1.]),\n",
       " array([-5.86799145, -5.63653749, -5.40508354, -5.17362959, -4.94217564,\n",
       "        -4.71072168, -4.47926773, -4.24781378, -4.01635983, -3.78490587,\n",
       "        -3.55345192, -3.32199797, -3.09054401, -2.85909006, -2.62763611,\n",
       "        -2.39618216, -2.1647282 , -1.93327425, -1.7018203 , -1.47036634,\n",
       "        -1.23891239, -1.00745844, -0.77600449, -0.54455053, -0.31309658,\n",
       "        -0.08164263,  0.14981133,  0.38126528,  0.61271923,  0.84417318,\n",
       "         1.07562714,  1.30708109,  1.53853504,  1.76998899,  2.00144295,\n",
       "         2.2328969 ,  2.46435085,  2.69580481,  2.92725876,  3.15871271,\n",
       "         3.39016666,  3.62162062,  3.85307457,  4.08452852,  4.31598248,\n",
       "         4.54743643,  4.77889038,  5.01034433,  5.24179829,  5.47325224,\n",
       "         5.70470619]),\n",
       " <BarContainer object of 50 artists>)"
      ]
     },
     "execution_count": 72,
     "metadata": {},
     "output_type": "execute_result"
    },
    {
     "data": {
      "image/png": "[encoded data removed]",
      "text/plain": [
       "<Figure size 640x480 with 1 Axes>"
      ]
     },
     "metadata": {},
     "output_type": "display_data"
    }
   ],
   "source": [
    "plt.hist(hpreact.view(-1).tolist(),50)"
   ]
  },
  {
   "cell_type": "code",
   "execution_count": 73,
   "id": "3e282cdd",
   "metadata": {},
   "outputs": [
    {
     "data": {
      "text/plain": [
       "tensor([ 3.8071,  4.9012,  2.5235, -2.7200,  0.6772,  1.8827, -0.3246, -2.2217,\n",
       "        -0.2201,  3.4181, -1.8232, -1.8781,  0.7966,  2.7443, -0.4268,  1.5515,\n",
       "         0.8932, -2.4625,  1.4213,  0.4718,  0.3338,  2.0394, -2.6640,  1.5786,\n",
       "        -4.0125,  1.6959,  1.6491], grad_fn=<SelectBackward0>)"
      ]
     },
     "execution_count": 73,
     "metadata": {},
     "output_type": "execute_result"
    }
   ],
   "source": [
    "logits[0]"
   ]
  },
  {
   "cell_type": "code",
   "execution_count": 74,
   "id": "13aa535e",
   "metadata": {},
   "outputs": [
    {
     "data": {
      "text/plain": [
       "[<matplotlib.lines.Line2D at 0x30442fb20>]"
      ]
     },
     "execution_count": 74,
     "metadata": {},
     "output_type": "execute_result"
    },
    {
     "data": {
      "image/png": "[encoded data removed]",
      "text/plain": [
       "<Figure size 640x480 with 1 Axes>"
      ]
     },
     "metadata": {},
     "output_type": "display_data"
    }
   ],
   "source": [
    "plt.plot(lossi)"
   ]
  },
  {
   "cell_type": "code",
   "execution_count": 75,
   "id": "06e8af96",
   "metadata": {},
   "outputs": [],
   "source": [
    "# calibrate the batch norm at the end of training \n",
    "\n",
    "with torch.no_grad():\n",
    "    # pass the training set through \n",
    "    emb = C[Xtr]\n",
    "    embcat = emb.view(emb.shape[0], -1)\n",
    "    hpreact = embcat @ W1 + b1\n",
    "    \n",
    "    # measure the mean/std over the entire training set\n",
    "    bnmean = hpreact.mean(0, keepdim=True)\n",
    "    bnstd = hpreact.std(0, keepdim=True)"
   ]
  },
  {
   "cell_type": "code",
   "execution_count": 78,
   "id": "632b5e9e",
   "metadata": {},
   "outputs": [
    {
     "data": {
      "text/plain": [
       "tensor([[1.7723, 2.3911, 1.9101, 1.8743, 1.7488, 1.7565, 2.0193, 2.1019, 1.9965,\n",
       "         1.9487, 1.6688, 1.7449, 2.5841, 2.0658, 1.8814, 1.9104, 1.6248, 1.8023,\n",
       "         2.0151, 2.1769, 1.9349, 1.9005, 1.8609, 2.1847, 2.1785, 1.9879, 2.0767,\n",
       "         1.8563, 2.2910, 2.0781, 1.7896, 1.5043, 1.1415, 2.0666, 2.1582, 1.8131,\n",
       "         1.8935, 1.5891, 2.2767, 2.1206, 2.0316, 2.2416, 2.0333, 1.9730, 2.0672,\n",
       "         1.5484, 1.9875, 2.2856, 1.7673, 2.1335, 1.9725, 2.0840, 1.7568, 1.7215,\n",
       "         2.0275, 1.2467, 1.2190, 1.9385, 2.1325, 2.2665, 2.1759, 2.4586, 2.4577,\n",
       "         2.1361, 2.3163, 1.9629, 1.9248, 2.1066, 1.6180, 1.8087, 2.3850, 2.2126,\n",
       "         2.3789, 1.7880, 2.0740, 1.9528, 1.0493, 1.7759, 2.2976, 2.0728, 2.3646,\n",
       "         1.9951, 2.1166, 1.8140, 1.7663, 1.8297, 1.9374, 1.9775, 2.3142, 1.8491,\n",
       "         2.1276, 2.0255, 1.8751, 1.7217, 2.5346, 2.2913, 1.9049, 2.0204, 1.8464,\n",
       "         1.8788, 2.1125, 2.2243, 1.7890, 1.9897, 1.9622, 2.1808, 1.7666, 1.6277,\n",
       "         2.1021, 1.9604, 1.8721, 2.2815, 1.8538, 2.6900, 1.9092, 1.9448, 1.1571,\n",
       "         2.3100, 2.1859, 2.0800, 2.3145, 2.2803, 1.9032, 2.0915, 1.9090, 1.7340,\n",
       "         1.9127, 2.0141, 1.7841, 2.1125, 1.8699, 1.9711, 1.6475, 1.7521, 1.8852,\n",
       "         2.5059, 2.1288, 1.7985, 1.6375, 1.8124, 1.8359, 1.6953, 1.7727, 1.6663,\n",
       "         1.8545, 2.0434, 1.9008, 1.7803, 2.1400, 2.1676, 1.7360, 1.6591, 1.9550,\n",
       "         2.3644, 1.7463, 2.3434, 2.3245, 1.6630, 2.1495, 1.7059, 1.8835, 2.2295,\n",
       "         2.0483, 1.3564, 1.6945, 1.6693, 2.1780, 1.8117, 2.0611, 1.9739, 1.8784,\n",
       "         1.7852, 2.0594, 2.0216, 2.2186, 1.6437, 1.7482, 2.0304, 1.9838, 2.1836,\n",
       "         2.2700, 2.0173, 1.9663, 1.3496, 1.6514, 1.7600, 1.8901, 1.6357, 1.5500,\n",
       "         1.9073, 1.7620, 1.7454, 2.1373, 2.0118, 2.0537, 1.5425, 2.0835, 2.2005,\n",
       "         1.5934, 1.9292]])"
      ]
     },
     "execution_count": 78,
     "metadata": {},
     "output_type": "execute_result"
    }
   ],
   "source": [
    "bnstd"
   ]
  },
  {
   "cell_type": "code",
   "execution_count": 79,
   "id": "c484331a",
   "metadata": {},
   "outputs": [
    {
     "data": {
      "text/plain": [
       "tensor([[1.7619, 2.3635, 1.8914, 1.8556, 1.7302, 1.7338, 2.0130, 2.0892, 1.9774,\n",
       "         1.9320, 1.6465, 1.7203, 2.5758, 2.0444, 1.8585, 1.8863, 1.6071, 1.7931,\n",
       "         1.9945, 2.1376, 1.9194, 1.8823, 1.8300, 2.1675, 2.1475, 1.9752, 2.0515,\n",
       "         1.8416, 2.2571, 2.0602, 1.7671, 1.4857, 1.1301, 2.0480, 2.1424, 1.8002,\n",
       "         1.8847, 1.5591, 2.2507, 2.1039, 2.0134, 2.2290, 2.0063, 1.9411, 2.0400,\n",
       "         1.5273, 1.9649, 2.2561, 1.7351, 2.1085, 1.9353, 2.0504, 1.7337, 1.7032,\n",
       "         2.0060, 1.2263, 1.1951, 1.9173, 2.1126, 2.2341, 2.1579, 2.4441, 2.4378,\n",
       "         2.1080, 2.3000, 1.9417, 1.8995, 2.0817, 1.6128, 1.7887, 2.3492, 2.1906,\n",
       "         2.3466, 1.7738, 2.0375, 1.9289, 1.0404, 1.7538, 2.2786, 2.0321, 2.3485,\n",
       "         1.9595, 2.0879, 1.7956, 1.7453, 1.8059, 1.9230, 1.9621, 2.2949, 1.8157,\n",
       "         2.0894, 2.0107, 1.8501, 1.7005, 2.5203, 2.2758, 1.8834, 1.9844, 1.8158,\n",
       "         1.8611, 2.0836, 2.1875, 1.7629, 1.9663, 1.9431, 2.1561, 1.7483, 1.6033,\n",
       "         2.0790, 1.9432, 1.8615, 2.2492, 1.8406, 2.6725, 1.8863, 1.9261, 1.1455,\n",
       "         2.2970, 2.1551, 2.0639, 2.2898, 2.2663, 1.8769, 2.0711, 1.8805, 1.7164,\n",
       "         1.8936, 1.9887, 1.7574, 2.0853, 1.8558, 1.9513, 1.6299, 1.7319, 1.8593,\n",
       "         2.4827, 2.1086, 1.7782, 1.6054, 1.7824, 1.8116, 1.6727, 1.7464, 1.6510,\n",
       "         1.8332, 2.0209, 1.8762, 1.7605, 2.1112, 2.1276, 1.7063, 1.6357, 1.9334,\n",
       "         2.3397, 1.7258, 2.3349, 2.3157, 1.6401, 2.1310, 1.6873, 1.8647, 2.2062,\n",
       "         2.0243, 1.3463, 1.6752, 1.6595, 2.1452, 1.7887, 2.0448, 1.9497, 1.8442,\n",
       "         1.7674, 2.0424, 1.9976, 2.1987, 1.6295, 1.7271, 2.0124, 1.9590, 2.1628,\n",
       "         2.2397, 2.0010, 1.9441, 1.3312, 1.6237, 1.7379, 1.8640, 1.6136, 1.5293,\n",
       "         1.8842, 1.7341, 1.7221, 2.1219, 1.9927, 2.0258, 1.5321, 2.0476, 2.1648,\n",
       "         1.5718, 1.9036]])"
      ]
     },
     "execution_count": 79,
     "metadata": {},
     "output_type": "execute_result"
    }
   ],
   "source": [
    "bnstd_running"
   ]
  },
  {
   "cell_type": "code",
   "execution_count": 80,
   "id": "290b5997",
   "metadata": {},
   "outputs": [
    {
     "name": "stdout",
     "output_type": "stream",
     "text": [
      "train 2.062875986099243\n",
      "val 2.1071994304656982\n"
     ]
    }
   ],
   "source": [
    "@torch.no_grad() # this decorator disables gradient tracking\n",
    "def split_loss(split):\n",
    "    x, y = {\n",
    "        'train': (Xtr, Ytr),\n",
    "        'val': (Xva, Yva),\n",
    "        'test': (Xte, Yte),\n",
    "    }[split]\n",
    "    emb = C[x] # (N, block_size, n_embd)\n",
    "    embcat = emb.view(emb.shape[0], -1) #  concat into (N, block_size * n_embd)\n",
    "    hpreact = embcat @ W1 + b1 # (N, n_hidden)\n",
    "    # hpreact = bngain * (hpreact - hpreact.mean(0, keepdim=True)) / (hpreact.std(0, keepdim=True) + bnbias)\n",
    "    hpreact = bngain * (hpreact - bnmean_running) / bnstd_running + bnbias\n",
    "    h = torch.tanh(hpreact) # (N, vocab_size)\n",
    "    logits = h @ W2 + b2\n",
    "    loss = F.cross_entropy(logits, y)\n",
    "    print(split, loss.item())\n",
    "\n",
    "split_loss('train')\n",
    "split_loss('val')"
   ]
  },
  {
   "cell_type": "code",
   "execution_count": 11,
   "id": "5b0282b1",
   "metadata": {},
   "outputs": [
    {
     "name": "stdout",
     "output_type": "stream",
     "text": [
      "dex.\n",
      "mariah.\n",
      "makilah.\n",
      "tyreell.\n",
      "imitta.\n",
      "nella.\n",
      "kama.\n",
      "darreliyah.\n",
      "jaxson.\n",
      "mari.\n",
      "moriella.\n",
      "kinzie.\n",
      "darek.\n",
      "emma.\n",
      "sadel.\n",
      "akavion.\n",
      "raslyn.\n",
      "huniel.\n",
      "viah.\n",
      "ash.\n"
     ]
    }
   ],
   "source": [
    "# sample from the model \n",
    "\n",
    "g = torch.Generator().manual_seed(2147483647)\n",
    "\n",
    "for _ in range(20): \n",
    "    \n",
    "    out = []\n",
    "    context = [0] * block_size\n",
    "    while True:\n",
    "        # forward pass the neural net\n",
    "        emb = C[torch.tensor([context])] # (1, block_size, n_embd)\n",
    "        h = torch.tanh(emb.view(1, -1) @ W1 + b1) \n",
    "        logits = h @ W2 + b2\n",
    "        probs = F.softmax(logits, dim=1)\n",
    "        # sample from distribution \n",
    "        ix = torch.multinomial(probs[0], num_samples=1, generator=g).item()\n",
    "        # shift the context window and track the samples\n",
    "        context = context[1:] + [ix]\n",
    "        out.append(ix)\n",
    "        # if we sample the special '.' token, break \n",
    "        if ix == 0:\n",
    "            break\n",
    "    print(''.join(itos[i] for i in out))"
   ]
  },
  {
   "cell_type": "code",
   "execution_count": null,
   "id": "501504f6",
   "metadata": {},
   "outputs": [],
   "source": []
  }
 ],
 "metadata": {
  "kernelspec": {
   "display_name": ".venv",
   "language": "python",
   "name": "python3"
  },
  "language_info": {
   "codemirror_mode": {
    "name": "ipython",
    "version": 3
   },
   "file_extension": ".py",
   "mimetype": "text/x-python",
   "name": "python",
   "nbconvert_exporter": "python",
   "pygments_lexer": "ipython3",
   "version": "3.10.11"
  }
 },
 "nbformat": 4,
 "nbformat_minor": 5
}
